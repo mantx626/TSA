{
 "cells": [
  {
   "cell_type": "code",
   "execution_count": 2,
   "metadata": {},
   "outputs": [],
   "source": [
    "import numpy as np\n",
    "import pandas as pd\n",
    "\n",
    "from scipy import stats # more style :)\n",
    "\n",
    "import seaborn as sns\n",
    "import matplotlib.pyplot as plt\n",
    "\n",
    "plt.style.use('ggplot')  # стиль для графиков\n",
    "%matplotlib inline"
   ]
  },
  {
   "cell_type": "code",
   "execution_count": 3,
   "metadata": {},
   "outputs": [
    {
     "data": {
      "text/html": [
       "<div>\n",
       "<style scoped>\n",
       "    .dataframe tbody tr th:only-of-type {\n",
       "        vertical-align: middle;\n",
       "    }\n",
       "\n",
       "    .dataframe tbody tr th {\n",
       "        vertical-align: top;\n",
       "    }\n",
       "\n",
       "    .dataframe thead th {\n",
       "        text-align: right;\n",
       "    }\n",
       "</style>\n",
       "<table border=\"1\" class=\"dataframe\">\n",
       "  <thead>\n",
       "    <tr style=\"text-align: right;\">\n",
       "      <th></th>\n",
       "      <th>group</th>\n",
       "      <th>fio</th>\n",
       "      <th>contest_login</th>\n",
       "      <th>hse_mail</th>\n",
       "      <th>alt_mail</th>\n",
       "      <th>a1_coursera</th>\n",
       "      <th>a2_coursera</th>\n",
       "      <th>b_coursera</th>\n",
       "      <th>coursera</th>\n",
       "      <th>d1a</th>\n",
       "      <th>...</th>\n",
       "      <th>d3b</th>\n",
       "      <th>d3c</th>\n",
       "      <th>d3</th>\n",
       "      <th>k3a</th>\n",
       "      <th>k3b</th>\n",
       "      <th>k3c</th>\n",
       "      <th>k3</th>\n",
       "      <th>nakop</th>\n",
       "      <th>total</th>\n",
       "      <th>final</th>\n",
       "    </tr>\n",
       "  </thead>\n",
       "  <tbody>\n",
       "    <tr>\n",
       "      <th>0</th>\n",
       "      <td>БЭК181</td>\n",
       "      <td>Аверьянов Николай Егорович</td>\n",
       "      <td>eds_python_2020_1</td>\n",
       "      <td>neaveryanov@edu.hse.ru</td>\n",
       "      <td>NaN</td>\n",
       "      <td>50.0</td>\n",
       "      <td>50.0</td>\n",
       "      <td>40.0</td>\n",
       "      <td>10.0</td>\n",
       "      <td>1.0</td>\n",
       "      <td>...</td>\n",
       "      <td>NaN</td>\n",
       "      <td>NaN</td>\n",
       "      <td>NaN</td>\n",
       "      <td>NaN</td>\n",
       "      <td>NaN</td>\n",
       "      <td>NaN</td>\n",
       "      <td>NaN</td>\n",
       "      <td>NaN</td>\n",
       "      <td>4.520000</td>\n",
       "      <td>5.0</td>\n",
       "    </tr>\n",
       "    <tr>\n",
       "      <th>1</th>\n",
       "      <td>БЭК181</td>\n",
       "      <td>Алиев Эльнур Гашимович</td>\n",
       "      <td>eds_python_2020_2</td>\n",
       "      <td>egaliev_1@edu.hse.ru</td>\n",
       "      <td>NaN</td>\n",
       "      <td>50.0</td>\n",
       "      <td>50.0</td>\n",
       "      <td>40.0</td>\n",
       "      <td>10.0</td>\n",
       "      <td>1.0</td>\n",
       "      <td>...</td>\n",
       "      <td>NaN</td>\n",
       "      <td>NaN</td>\n",
       "      <td>NaN</td>\n",
       "      <td>NaN</td>\n",
       "      <td>NaN</td>\n",
       "      <td>NaN</td>\n",
       "      <td>NaN</td>\n",
       "      <td>NaN</td>\n",
       "      <td>3.840000</td>\n",
       "      <td>4.0</td>\n",
       "    </tr>\n",
       "    <tr>\n",
       "      <th>2</th>\n",
       "      <td>БЭК181</td>\n",
       "      <td>Алтунина Анастасия Игоревна</td>\n",
       "      <td>eds_python_2020_3</td>\n",
       "      <td>aialtunina@edu.hse.ru</td>\n",
       "      <td>NaN</td>\n",
       "      <td>50.0</td>\n",
       "      <td>50.0</td>\n",
       "      <td>40.0</td>\n",
       "      <td>10.0</td>\n",
       "      <td>1.0</td>\n",
       "      <td>...</td>\n",
       "      <td>NaN</td>\n",
       "      <td>NaN</td>\n",
       "      <td>NaN</td>\n",
       "      <td>NaN</td>\n",
       "      <td>NaN</td>\n",
       "      <td>NaN</td>\n",
       "      <td>NaN</td>\n",
       "      <td>NaN</td>\n",
       "      <td>4.140000</td>\n",
       "      <td>4.0</td>\n",
       "    </tr>\n",
       "    <tr>\n",
       "      <th>3</th>\n",
       "      <td>БЭК181</td>\n",
       "      <td>Байкалова Дарья Александровна</td>\n",
       "      <td>eds_python_2020_4</td>\n",
       "      <td>dabaykalova@edu.hse.ru</td>\n",
       "      <td>NaN</td>\n",
       "      <td>50.0</td>\n",
       "      <td>50.0</td>\n",
       "      <td>40.0</td>\n",
       "      <td>10.0</td>\n",
       "      <td>1.0</td>\n",
       "      <td>...</td>\n",
       "      <td>NaN</td>\n",
       "      <td>NaN</td>\n",
       "      <td>NaN</td>\n",
       "      <td>NaN</td>\n",
       "      <td>NaN</td>\n",
       "      <td>NaN</td>\n",
       "      <td>NaN</td>\n",
       "      <td>NaN</td>\n",
       "      <td>3.900000</td>\n",
       "      <td>4.0</td>\n",
       "    </tr>\n",
       "    <tr>\n",
       "      <th>4</th>\n",
       "      <td>БЭК181</td>\n",
       "      <td>Васьков Алексей Васильевич</td>\n",
       "      <td>eds_python_2020_5</td>\n",
       "      <td>avvaskov@edu.hse.ru</td>\n",
       "      <td>NaN</td>\n",
       "      <td>50.0</td>\n",
       "      <td>50.0</td>\n",
       "      <td>40.0</td>\n",
       "      <td>10.0</td>\n",
       "      <td>0.0</td>\n",
       "      <td>...</td>\n",
       "      <td>NaN</td>\n",
       "      <td>NaN</td>\n",
       "      <td>NaN</td>\n",
       "      <td>NaN</td>\n",
       "      <td>NaN</td>\n",
       "      <td>NaN</td>\n",
       "      <td>NaN</td>\n",
       "      <td>NaN</td>\n",
       "      <td>3.566667</td>\n",
       "      <td>4.0</td>\n",
       "    </tr>\n",
       "  </tbody>\n",
       "</table>\n",
       "<p>5 rows × 46 columns</p>\n",
       "</div>"
      ],
      "text/plain": [
       "    group                            fio      contest_login  \\\n",
       "0  БЭК181     Аверьянов Николай Егорович  eds_python_2020_1   \n",
       "1  БЭК181         Алиев Эльнур Гашимович  eds_python_2020_2   \n",
       "2  БЭК181    Алтунина Анастасия Игоревна  eds_python_2020_3   \n",
       "3  БЭК181  Байкалова Дарья Александровна  eds_python_2020_4   \n",
       "4  БЭК181     Васьков Алексей Васильевич  eds_python_2020_5   \n",
       "\n",
       "                 hse_mail alt_mail  a1_coursera  a2_coursera  b_coursera  \\\n",
       "0  neaveryanov@edu.hse.ru      NaN         50.0         50.0        40.0   \n",
       "1    egaliev_1@edu.hse.ru      NaN         50.0         50.0        40.0   \n",
       "2   aialtunina@edu.hse.ru      NaN         50.0         50.0        40.0   \n",
       "3  dabaykalova@edu.hse.ru      NaN         50.0         50.0        40.0   \n",
       "4     avvaskov@edu.hse.ru      NaN         50.0         50.0        40.0   \n",
       "\n",
       "   coursera  d1a  ...    d3b  d3c  d3  k3a  k3b  k3c  k3  nakop     total  \\\n",
       "0      10.0  1.0  ...    NaN  NaN NaN  NaN  NaN  NaN NaN    NaN  4.520000   \n",
       "1      10.0  1.0  ...    NaN  NaN NaN  NaN  NaN  NaN NaN    NaN  3.840000   \n",
       "2      10.0  1.0  ...    NaN  NaN NaN  NaN  NaN  NaN NaN    NaN  4.140000   \n",
       "3      10.0  1.0  ...    NaN  NaN NaN  NaN  NaN  NaN NaN    NaN  3.900000   \n",
       "4      10.0  0.0  ...    NaN  NaN NaN  NaN  NaN  NaN NaN    NaN  3.566667   \n",
       "\n",
       "   final  \n",
       "0    5.0  \n",
       "1    4.0  \n",
       "2    4.0  \n",
       "3    4.0  \n",
       "4    4.0  \n",
       "\n",
       "[5 rows x 46 columns]"
      ]
     },
     "execution_count": 3,
     "metadata": {},
     "output_type": "execute_result"
    }
   ],
   "source": [
    "nod = pd.read_csv('nod_2020-05-17.csv')\n",
    "nod.head()"
   ]
  },
  {
   "cell_type": "code",
   "execution_count": 4,
   "metadata": {},
   "outputs": [
    {
     "data": {
      "text/plain": [
       "Index(['group', 'fio', 'contest_login', 'hse_mail', 'alt_mail', 'a1_coursera',\n",
       "       'a2_coursera', 'b_coursera', 'coursera', 'd1a', 'd1b', 'd1c', 'd1d',\n",
       "       'd1e', 'd1f', 'd1prel', 'd1fraud', 'd1', 'k1a', 'k1b', 'k1c', 'k1d',\n",
       "       'k1e', 'k1f', 'k1f.1', 'k1prel', 'k1', 'd2a', 'd2b', 'd2c', 'd2', 'k2a',\n",
       "       'k2b', 'k2c', 'k2', 'd3a', 'd3b', 'd3c', 'd3', 'k3a', 'k3b', 'k3c',\n",
       "       'k3', 'nakop', 'total', 'final'],\n",
       "      dtype='object')"
      ]
     },
     "execution_count": 4,
     "metadata": {},
     "output_type": "execute_result"
    }
   ],
   "source": [
    "nod.columns"
   ]
  },
  {
   "cell_type": "code",
   "execution_count": 5,
   "metadata": {},
   "outputs": [],
   "source": [
    "nod.dropna(subset=[\"k1\"], inplace=True)"
   ]
  },
  {
   "cell_type": "code",
   "execution_count": 6,
   "metadata": {},
   "outputs": [
    {
     "data": {
      "text/plain": [
       "<matplotlib.axes._subplots.AxesSubplot at 0x1dfad48f518>"
      ]
     },
     "execution_count": 6,
     "metadata": {},
     "output_type": "execute_result"
    },
    {
     "data": {
      "image/png": "[encoded data removed]",
      "text/plain": [
       "<Figure size 432x288 with 1 Axes>"
      ]
     },
     "metadata": {
      "needs_background": "light"
     },
     "output_type": "display_data"
    }
   ],
   "source": [
    "nod.k1.hist()"
   ]
  },
  {
   "cell_type": "code",
   "execution_count": 7,
   "metadata": {},
   "outputs": [
    {
     "data": {
      "text/plain": [
       "1.959963984540054"
      ]
     },
     "execution_count": 7,
     "metadata": {},
     "output_type": "execute_result"
    }
   ],
   "source": [
    "alpha = 0.05\n",
    "\n",
    "# https://docs.scipy.org/doc/scipy/reference/stats.html\n",
    "norm_rv = stats.norm( )\n",
    "z = norm_rv.ppf(1 - alpha/2)\n",
    "z"
   ]
  },
  {
   "cell_type": "code",
   "execution_count": 8,
   "metadata": {},
   "outputs": [
    {
     "name": "stdout",
     "output_type": "stream",
     "text": [
      "Доверительный интервал [5.12;5.75] ширины 0.628\n"
     ]
    }
   ],
   "source": [
    "x = nod.k1.values\n",
    "\n",
    "left = x.mean() - z * np.sqrt(x.var()/x.size)\n",
    "right = x.mean() + z * np.sqrt(x.var()/x.size)\n",
    "\n",
    "print(f\"Доверительный интервал [{left:.3};{right:.3}] ширины {right - left:.3}\")"
   ]
  },
  {
   "cell_type": "code",
   "execution_count": 9,
   "metadata": {},
   "outputs": [],
   "source": [
    "mu_hat = x.mean()\n",
    "sd_hat = np.sqrt(x.var()/x.size)"
   ]
  },
  {
   "cell_type": "code",
   "execution_count": 10,
   "metadata": {},
   "outputs": [
    {
     "data": {
      "text/plain": [
       "(5.117082820375691, 5.745481282188411)"
      ]
     },
     "execution_count": 10,
     "metadata": {},
     "output_type": "execute_result"
    }
   ],
   "source": [
    "# при такой записи 0.95 это 1 - alpha\n",
    "stats.norm.interval(0.95, loc=mu_hat, scale=sd_hat)"
   ]
  },
  {
   "cell_type": "code",
   "execution_count": 30,
   "metadata": {},
   "outputs": [],
   "source": [
    "\n",
    "\n",
    "def norm_conf_int(alpha, mu_hat, sd_hat, margin=1):\n",
    "    plt.figure(figsize = (10, 5))\n",
    "    norm_rv = stats.norm(loc=mu_hat, scale=sd_hat)\n",
    "\n",
    "    x = np.linspace(-margin + mu_hat, margin + mu_hat, 100)\n",
    "    pdf = norm_rv.pdf(x)\n",
    "\n",
    "    plt.plot(x, pdf)\n",
    "    plt.ylabel(\"$f(x)$\", fontsize=18)\n",
    "    plt.xlabel(\"$x$\", fontsize=18)\n",
    "    y_max = plt.ylim()[1]\n",
    "\n",
    "    left,right = stats.norm.interval(1 - alpha, loc=mu_hat, scale=sd_hat)\n",
    "\n",
    "    plt.axvline(left, color=\"blue\", linestyle=\"--\", lw=2)\n",
    "    plt.text(left-0.2, 0.8*y_max, f\"{left:.3}\", color=\"blue\", fontsize=16)\n",
    "    xq = np.linspace(-margin + mu_hat, left)\n",
    "    yq = norm_rv.pdf(xq)\n",
    "    plt.fill_between(xq, 0, yq, color=\"blue\", alpha=0.3)\n",
    "\n",
    "    plt.axvline(right, color=\"blue\", linestyle=\"--\", lw=2)\n",
    "    plt.text(right+0.05, 0.8*y_max, f\"{right:.3}\", color=\"blue\", fontsize=16)\n",
    "    xq = np.linspace(right, margin + mu_hat)\n",
    "    yq = norm_rv.pdf(xq)\n",
    "    plt.fill_between(xq, 0, yq, color=\"blue\", alpha=0.3)\n",
    "    return left, right"
   ]
  },
  {
   "cell_type": "code",
   "execution_count": 31,
   "metadata": {},
   "outputs": [
    {
     "name": "stdout",
     "output_type": "stream",
     "text": [
      "5.759633027522935 0.290784065745122\n"
     ]
    },
    {
     "data": {
      "text/plain": [
       "(5.189706731384368, 6.329559323661502)"
      ]
     },
     "execution_count": 31,
     "metadata": {},
     "output_type": "execute_result"
    },
    {
     "data": {
      "image/png": "[encoded data removed]",
      "text/plain": [
       "<Figure size 720x360 with 1 Axes>"
      ]
     },
     "metadata": {
      "needs_background": "light"
     },
     "output_type": "display_data"
    }
   ],
   "source": [
    "alpha = 0.05\n",
    "mu_hat = x.mean()\n",
    "sd_hat = np.sqrt(x.var()/x.size)\n",
    "print(mu_hat,sd_hat)\n",
    "norm_conf_int(alpha, mu_hat, sd_hat)"
   ]
  },
  {
   "cell_type": "code",
   "execution_count": 21,
   "metadata": {},
   "outputs": [
    {
     "data": {
      "text/plain": [
       "<matplotlib.legend.Legend at 0x1dfb19fd278>"
      ]
     },
     "execution_count": 21,
     "metadata": {},
     "output_type": "execute_result"
    },
    {
     "data": {
      "image/png": "[encoded data removed]",
      "text/plain": [
       "<Figure size 720x360 with 1 Axes>"
      ]
     },
     "metadata": {
      "needs_background": "light"
     },
     "output_type": "display_data"
    }
   ],
   "source": [
    "plt.figure(figsize = (10, 5))\n",
    "nod[nod.d1fraud > 0].k1.hist(alpha=0.4, bins=20, density=True, label=\"demons\")\n",
    "nod[nod.d1fraud == 0].k1.hist(alpha=0.4, bins=20, density=True, label=\"angels\")\n",
    "plt.legend()"
   ]
  },
  {
   "cell_type": "code",
   "execution_count": 22,
   "metadata": {},
   "outputs": [
    {
     "data": {
      "text/plain": [
       "(5.759633027522935, 5.897600000000001)"
      ]
     },
     "execution_count": 22,
     "metadata": {},
     "output_type": "execute_result"
    }
   ],
   "source": [
    "x = nod[nod.d1fraud == 0].k1.values\n",
    "y = nod[nod.d1fraud > 0].k1.values\n",
    "\n",
    "x.mean(), y.mean()"
   ]
  },
  {
   "cell_type": "code",
   "execution_count": 23,
   "metadata": {},
   "outputs": [
    {
     "data": {
      "text/plain": [
       "(-0.8061568116880097, 0.5302228667338785)"
      ]
     },
     "execution_count": 23,
     "metadata": {},
     "output_type": "execute_result"
    },
    {
     "data": {
      "image/png": "[encoded data removed]",
      "text/plain": [
       "<Figure size 720x360 with 1 Axes>"
      ]
     },
     "metadata": {
      "needs_background": "light"
     },
     "output_type": "display_data"
    }
   ],
   "source": [
    "alpha = 0.05\n",
    "\n",
    "diff = x.mean() - y.mean()\n",
    "diff_sd = np.sqrt(x.var()/x.size + y.var()/y.size)\n",
    "\n",
    "norm_conf_int(alpha, diff, diff_sd, margin=2)"
   ]
  },
  {
   "cell_type": "code",
   "execution_count": 24,
   "metadata": {},
   "outputs": [
    {
     "data": {
      "text/plain": [
       "-0.4046908247368758"
      ]
     },
     "execution_count": 24,
     "metadata": {},
     "output_type": "execute_result"
    }
   ],
   "source": [
    "# Проверяем гипотезу!\n",
    "\n",
    "# H_0:  mu = 5,  mu_0 = 5\n",
    "# H_a:  mu != 5\n",
    "\n",
    "# H_0: mu_a = mu_d   <=> mu_a - mu_d = 0, mu_0 = 0\n",
    "# H_A: mu_a != mu_d\n",
    "\n",
    "# наблюдаемое значение\n",
    "z_obs = diff/diff_sd\n",
    "z_obs"
   ]
  },
  {
   "cell_type": "code",
   "execution_count": 25,
   "metadata": {},
   "outputs": [
    {
     "data": {
      "text/plain": [
       "1.959963984540054"
      ]
     },
     "execution_count": 25,
     "metadata": {},
     "output_type": "execute_result"
    }
   ],
   "source": [
    "alpha = 0.05\n",
    "\n",
    "norm_rv = stats.norm( )\n",
    "z_crit = norm_rv.ppf(1 - alpha/2)\n",
    "z_crit"
   ]
  },
  {
   "cell_type": "code",
   "execution_count": 47,
   "metadata": {},
   "outputs": [],
   "source": [
    "def norm_mean_test(mu_hat, sd_hat, mu_0 = 0, alpha=0.05, margin=3):\n",
    "    \n",
    "    z_obs = mu_hat/sd_hat\n",
    "    z_crit = stats.norm( ).ppf(1 - alpha/2)\n",
    "    \n",
    "    print(z_obs, z_crit)\n",
    "\n",
    "    plt.figure(figsize = (10, 5))\n",
    "\n",
    "    x = np.linspace(-margin, margin, 100)\n",
    "    pdf = norm_rv.pdf(x)\n",
    "\n",
    "    plt.plot(x, pdf, color=\"black\")\n",
    "    plt.ylabel(\"$f(x)$\", fontsize=18)\n",
    "    plt.xlabel(\"$x$\", fontsize=18)\n",
    "    y_max = plt.ylim()[1]\n",
    "\n",
    "    # Критические значения статистки \n",
    "    plt.axvline(-z_crit, color=\"blue\", linestyle=\"--\", lw=2)\n",
    "    plt.text(-z_crit-0.7, 0.8*y_max, f\"{-z_crit:.3}\", color=\"blue\", fontsize=16)\n",
    "    xq = np.linspace(-margin, -z_crit)\n",
    "    yq = norm_rv.pdf(xq)\n",
    "    plt.fill_between(xq, 0, yq, color=\"blue\", alpha=0.2)\n",
    "\n",
    "    plt.axvline(z_crit, color=\"blue\", linestyle=\"--\", lw=2)\n",
    "    plt.text(z_crit+0.05, 0.8*y_max, f\"{z_crit:.3}\", color=\"blue\", fontsize=16)\n",
    "    xq = np.linspace(z_crit, margin)\n",
    "    yq = norm_rv.pdf(xq)\n",
    "    plt.fill_between(xq, 0, yq, color=\"blue\", alpha=0.2)\n",
    "\n",
    "    # Наблюдаемые значения статистики\n",
    "    plt.axvline(-z_obs, color=\"red\", linestyle=\"--\", lw=2)\n",
    "    plt.text(-z_obs-0.7, 0.8*y_max, f\"{-z_obs:.3}\", color=\"red\", fontsize=16)\n",
    "    xq = np.linspace(-margin, -z_obs)\n",
    "    yq = norm_rv.pdf(xq)\n",
    "    plt.fill_between(xq, 0, yq, color=\"red\", alpha=0.2)\n",
    "\n",
    "    plt.axvline(z_obs, color=\"red\", linestyle=\"--\", lw=2)\n",
    "    plt.text(z_obs+0.05, 0.8*y_max, f\"{z_obs:.3}\", color=\"red\", fontsize=16)\n",
    "    xq = np.linspace(z_obs, margin)\n",
    "    yq = norm_rv.pdf(xq)\n",
    "    plt.fill_between(xq, 0, yq, color=\"red\", alpha=0.2)\n",
    "\n",
    "    pvalue = 2*norm_rv.cdf(-z_obs)\n",
    "    return pvalue"
   ]
  },
  {
   "cell_type": "code",
   "execution_count": 48,
   "metadata": {},
   "outputs": [
    {
     "name": "stdout",
     "output_type": "stream",
     "text": [
      "-0.13796697247706557 0.3409194477457445\n",
      "-0.4046908247368758 1.959963984540054\n"
     ]
    },
    {
     "data": {
      "text/plain": [
       "1.3142952126199199"
      ]
     },
     "execution_count": 48,
     "metadata": {},
     "output_type": "execute_result"
    },
    {
     "data": {
      "image/png": "[encoded data removed]",
      "text/plain": [
       "<Figure size 720x360 with 1 Axes>"
      ]
     },
     "metadata": {
      "needs_background": "light"
     },
     "output_type": "display_data"
    }
   ],
   "source": [
    "x = nod[nod.d1fraud == 0].k1.values\n",
    "y = nod[nod.d1fraud > 0].k1.values\n",
    "\n",
    "diff = x.mean() - y.mean()\n",
    "diff_sd = np.sqrt(x.var()/x.size + y.var()/y.size)\n",
    "print(diff,diff_sd)\n",
    "norm_mean_test(diff, diff_sd)"
   ]
  },
  {
   "cell_type": "code",
   "execution_count": null,
   "metadata": {},
   "outputs": [],
   "source": []
  }
 ],
 "metadata": {
  "kernelspec": {
   "display_name": "Python 3",
   "language": "python",
   "name": "python3"
  },
  "language_info": {
   "codemirror_mode": {
    "name": "ipython",
    "version": 3
   },
   "file_extension": ".py",
   "mimetype": "text/x-python",
   "name": "python",
   "nbconvert_exporter": "python",
   "pygments_lexer": "ipython3",
   "version": "3.7.0"
  }
 },
 "nbformat": 4,
 "nbformat_minor": 4
}
